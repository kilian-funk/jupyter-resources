{
 "cells": [
  {
   "cell_type": "markdown",
   "id": "37839851-e4b1-4c29-91d8-7ada97e34257",
   "metadata": {
    "tags": []
   },
   "source": [
    "# Vokabel-Trainer"
   ]
  },
  {
   "cell_type": "markdown",
   "id": "279c4040-70b1-47ed-947f-fd6a00d2f071",
   "metadata": {},
   "source": [
    "<a id='vokabeln'></a>Vokabeln lernen erfordert viel Übung. Ein Trainingsprogramm kann einem da gute Dienste leisten. Fangen wir an, eine Vokabelliste in einem Wörterbuch zu speichern.\n",
    "\n",
    "**gegeben:**"
   ]
  },
  {
   "cell_type": "code",
   "execution_count": 28,
   "id": "c41880e3-8335-474d-8c27-0703d235736c",
   "metadata": {},
   "outputs": [],
   "source": [
    "vokabeln = {\n",
    "    \"Tasche\": \"bag\",\n",
    "    \"Bleistift\": \"pencil\",\n",
    "}"
   ]
  },
  {
   "cell_type": "markdown",
   "id": "46cb9daf-7ca3-45b8-a818-ab2d3264ac40",
   "metadata": {},
   "source": [
    "**Aufgabe:** \n",
    "\n",
    "Erweitere die Vokabelliste um vier Wortpaare. Verwende z. B. Wörter, die dir im Englischen schwer fallen, damit du gleich üben kannst."
   ]
  },
  {
   "cell_type": "markdown",
   "id": "c7d06826-88e8-4150-9e8f-f4802dec80e8",
   "metadata": {},
   "source": [
    "Jetzt geben wir die Wörter aus. Die Schleife kennst du schon. Neu ist das Formatieren von Text. Schau dir genau an, was die `format` Methode macht. Der Punkt vor dem `format` bedeutet, dass das eine Methode ist, die der Text (`str`-Objekt) zur Verfügung stellt. "
   ]
  },
  {
   "cell_type": "code",
   "execution_count": 29,
   "id": "92249f9d-6899-4925-9596-6dfda0e14129",
   "metadata": {},
   "outputs": [
    {
     "name": "stdout",
     "output_type": "stream",
     "text": [
      "Das deutsche Wort Tasche bedeutet auf Englisch\n",
      "Das deutsche Wort Bleistift bedeutet auf Englisch\n"
     ]
    }
   ],
   "source": [
    "for deutsch, englisch in vokabeln.items():\n",
    "    print(\"Das deutsche Wort {} bedeutet auf Englisch {}\".format(deutsch, englisch)) "
   ]
  },
  {
   "cell_type": "markdown",
   "id": "95b825b5-46a5-46e6-beed-6786e9898d8c",
   "metadata": {},
   "source": [
    "Das war die Vorbereitung. Jetzt fangen wir mit dem Vokabeltrainer an. Wir fragen den Benutzer nach der englischen Übersetzung:"
   ]
  },
  {
   "cell_type": "code",
   "execution_count": 31,
   "id": "4782b300-8b34-4104-98b9-423ac235f4d5",
   "metadata": {},
   "outputs": [
    {
     "name": "stdin",
     "output_type": "stream",
     "text": [
      "Übersetze: Tasche : \n"
     ]
    },
    {
     "name": "stdout",
     "output_type": "stream",
     "text": [
      "Das war leider nicht richtig.\n"
     ]
    },
    {
     "name": "stdin",
     "output_type": "stream",
     "text": [
      "Übersetze: Bleistift : \n"
     ]
    },
    {
     "name": "stdout",
     "output_type": "stream",
     "text": [
      "Das war leider nicht richtig.\n"
     ]
    }
   ],
   "source": [
    "for deutsch, englisch in vokabeln.items():\n",
    "    eingabe = input(\"Übersetze: {} :\".format(deutsch))\n",
    "    if eingabe == englisch:\n",
    "        print(\"Das war richtig!\")\n",
    "    else:\n",
    "        print(\"Das war leider nicht richtig.\")"
   ]
  },
  {
   "cell_type": "markdown",
   "id": "1cef453c-8d9a-4881-b27e-434d43413c1e",
   "metadata": {},
   "source": [
    "**Aufgabe:**\n",
    "\n",
    "Erweitere das Programm: Der Benutzer soll die richtige Antwort bekommt, wenn er einen Fehler gemacht hat."
   ]
  },
  {
   "cell_type": "markdown",
   "id": "7a5c54c9-3c28-4f11-bd76-3890359415c8",
   "metadata": {},
   "source": [
    "**Aufgabe:**\n",
    "\n",
    "Erweitere das Programm: Das Programm soll die richtigen und falschen Antworten mitzählen und am Ende dem Benutzer mitteilt, wieviele Antworten richtig oder falsch waren. Bei höchstens einem Fehler soll er ein Lob bekommen, sonst eine Aufmunterung, es nochmal zu versuchen."
   ]
  },
  {
   "cell_type": "markdown",
   "id": "8772f289-f8c7-4a6f-a832-b7597b4434de",
   "metadata": {},
   "source": [
    "## Strukturieren des Programms\n",
    "\n",
    "Wenn dein Programm länger wird, musst du darauf achten, dass es nicht zu Spaghetti wird. Deshalb ist jetzt der richtige Zeitpunkt etwas mehr struktur hinein zu bringen. Dazu verwenden wir Funktionen:"
   ]
  },
  {
   "cell_type": "code",
   "execution_count": 32,
   "id": "a472f837-04b1-45f3-b6e5-e55a10e40861",
   "metadata": {},
   "outputs": [],
   "source": [
    "def frage_vokabeln_ab(vokabel_auswahl):\n",
    "    # hier kommt deine for-Schleife von oben hinein\n",
    "    \n",
    "    anzahl_richtig = 0\n",
    "    anzahl_falsch = 0\n",
    "    return anzahl_richtig, anzahl_falsch"
   ]
  },
  {
   "cell_type": "code",
   "execution_count": 33,
   "id": "8291def1-47fa-42ec-9a95-fd595ea65914",
   "metadata": {},
   "outputs": [],
   "source": [
    "def gib_ergebnis_aus(anzahl_richtig, anzahl_falsch):\n",
    "    # hier kommt deine Ergebnisausgabe von oben hinein\n",
    "    pass"
   ]
  },
  {
   "cell_type": "markdown",
   "id": "f12693ef-2025-4e39-b443-3ea8e495518f",
   "metadata": {},
   "source": [
    "Dein Programm wird jetzt viel übersichtlicher:"
   ]
  },
  {
   "cell_type": "code",
   "execution_count": 34,
   "id": "f2c7246c-1a7f-4cc4-93c2-9d3cf11813a6",
   "metadata": {},
   "outputs": [],
   "source": [
    "anzahl_richtig, anzahl_falsch = frage_vokabeln_ab(vokabeln)\n",
    "gib_ergebnis_aus(anzahl_richtig, anzahl_falsch)"
   ]
  },
  {
   "cell_type": "markdown",
   "id": "de2ada0d-f729-45ff-8e4a-4c51eefcb290",
   "metadata": {},
   "source": [
    "**Aufgabe:**\n",
    "\n",
    "Erweitere das Programm: Es soll mitprotokolliert werden, welche Vokabeln noch nicht richtig beantwortet wurden. Dazu soll die Funktion `frage_vokabeln_ab` ein neues Wörterbuch mit den noch nicht gelernten Wortpaaren zurück geben. Jetzt kannst du den Benutzer solange die Vokabeln lernen lassen, bis er alle Fragen richtig beantwortet hat. "
   ]
  },
  {
   "cell_type": "markdown",
   "id": "90e83a12-c65c-4fb9-b1f0-d37a043825b6",
   "metadata": {},
   "source": [
    "Zum Schluss kannst du das Ergebnis grafisch ausgeben. Rufe dazu die Funktion `gib_ergebnis_aus_mit_plot`."
   ]
  },
  {
   "cell_type": "code",
   "execution_count": 37,
   "id": "a94eeff7-d94c-408c-b20b-6d8e96845222",
   "metadata": {},
   "outputs": [],
   "source": [
    "from matplotlib.pyplot import bar\n",
    "\n",
    "def gib_ergebnis_aus_mit_plot(anzahl_richtig, anzahl_falsch):\n",
    "    bar(['richtig', 'falsch'],[anzahl_richtig, anzahl_falsch])"
   ]
  },
  {
   "cell_type": "code",
   "execution_count": 38,
   "id": "37b46877-aa45-48e6-aa8a-4a3f4d673fe1",
   "metadata": {},
   "outputs": [
    {
     "data": {
      "image/png": "[encoded data removed]",
      "text/plain": [
       "<Figure size 432x288 with 1 Axes>"
      ]
     },
     "metadata": {
      "needs_background": "light"
     },
     "output_type": "display_data"
    }
   ],
   "source": [
    "# Beispiel\n",
    "\n",
    "gib_ergebnis_aus_mit_plot(12, 4)"
   ]
  },
  {
   "cell_type": "code",
   "execution_count": null,
   "id": "d58420a7-c6d9-4e54-b3d3-efde52effb7c",
   "metadata": {},
   "outputs": [],
   "source": []
  }
 ],
 "metadata": {
  "kernelspec": {
   "display_name": "Python 3 (ipykernel)",
   "language": "python",
   "name": "python3"
  },
  "language_info": {
   "codemirror_mode": {
    "name": "ipython",
    "version": 3
   },
   "file_extension": ".py",
   "mimetype": "text/x-python",
   "name": "python",
   "nbconvert_exporter": "python",
   "pygments_lexer": "ipython3",
   "version": "3.8.10"
  }
 },
 "nbformat": 4,
 "nbformat_minor": 5
}
