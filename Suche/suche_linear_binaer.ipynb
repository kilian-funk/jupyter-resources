{
 "cells": [
  {
   "cell_type": "markdown",
   "id": "d24a41d2",
   "metadata": {},
   "source": [
    "## Vorbereitung\n",
    "Dieser Abschnitt enthält Hilfsfunktionen, die du später verwenden wirst. Gehe direkt zur Überschrift **Lineare Suche** und beginne dort mit den Aufgaben."
   ]
  },
  {
   "cell_type": "code",
   "execution_count": 1,
   "id": "23f0ef8f",
   "metadata": {},
   "outputs": [],
   "source": [
    "def test_suche(test_name, test_liste, such_element, algorithmus):\n",
    "    print(\"Test {}: Start\".format(test_name))\n",
    "    \n",
    "    such_index = algorithmus(test_liste, such_element)\n",
    "\n",
    "    assert(test_liste[such_index] == such_element)\n",
    "    print(\"Erfolgreich: {}[{}] == {}\".format(test_liste, such_index, such_element))\n",
    "\n",
    "\n",
    "def test_kein_ergebnis(test_name, test_liste, such_element, algorithmus):\n",
    "    print(\"Test {}: Start\".format(test_name))\n",
    "    \n",
    "    try:\n",
    "        algorithmus(test_liste, such_element)\n",
    "    except ValueError:\n",
    "        pass\n",
    "    \n",
    "    print(\"Erfolgreich: {}[i] != {}: korrekter Werte-Fehler\".format(test_liste, such_element))\n",
    "  "
   ]
  },
  {
   "cell_type": "markdown",
   "id": "0cf33e12",
   "metadata": {},
   "source": [
    "# Lineare Suche\n",
    "\n",
    "**Aufgabe:** Beschreibe in wenigen Sätzen, wie du in einem (großen) Speicher an unsortierten Dingen ein bestimmtes Ding findest."
   ]
  },
  {
   "cell_type": "markdown",
   "id": "7b01f20c",
   "metadata": {},
   "source": [
    "**Lösung:** \n",
    "\n",
    "...\n",
    "\n",
    "\n"
   ]
  },
  {
   "cell_type": "markdown",
   "id": "b5c3315a",
   "metadata": {},
   "source": [
    "**Gegeben:** Ein Gerüst für eine Funktion, die deinen Algorithmus umsetzen soll.\n",
    "    \n",
    "Die Funtion nimmt zwei Argumente (Liste an Daten, gesuchtes Element). Sie soll die Position des gesuchten Elements in der Liste (index) zurück geben.\n",
    "\n",
    "Benutze die Tests dazu, um nach und nach den Algorithmus zu entwicklen. Beginne beim ersten Test. Verbessere den Algorithmus nur soviel, dass er diesen Test erfüllt. Dann gehe zum nächsten Test und erweitere deinen Algorithmus."
   ]
  },
  {
   "cell_type": "code",
   "execution_count": 4,
   "id": "f67517fb",
   "metadata": {},
   "outputs": [],
   "source": [
    "def suche_linear(liste, element):\n",
    "    # Lösung kommt hier rein\n",
    "    return 0"
   ]
  },
  {
   "cell_type": "markdown",
   "id": "06408134",
   "metadata": {},
   "source": [
    "**Test:** Erweitere die obige Funktion, sodass der nächste Test erfolgreich ist."
   ]
  },
  {
   "cell_type": "code",
   "execution_count": 5,
   "id": "10a0c82a",
   "metadata": {
    "scrolled": true
   },
   "outputs": [
    {
     "name": "stdout",
     "output_type": "stream",
     "text": [
      "Test Erstes Element, linear: Start\n",
      "Erfolgreich: [5, 0][0] == 5\n"
     ]
    }
   ],
   "source": [
    "test_suche(\n",
    "    test_name = \"Erstes Element, linear\",\n",
    "    test_liste = [5, 0],\n",
    "    such_element = 5,\n",
    "    algorithmus = suche_linear,\n",
    ")"
   ]
  },
  {
   "cell_type": "markdown",
   "id": "6063d6d8",
   "metadata": {},
   "source": [
    "**Test:** Erweitere die obige Funktion, sodass der nächste Test erfolgreich ist."
   ]
  },
  {
   "cell_type": "code",
   "execution_count": null,
   "id": "520d3e53",
   "metadata": {},
   "outputs": [],
   "source": [
    "test_suche(\n",
    "    test_name = \"Zweites Element, linear\",\n",
    "    test_liste = [5, 0],\n",
    "    such_element = 0,\n",
    "    algorithmus = suche_linear,\n",
    ")"
   ]
  },
  {
   "cell_type": "markdown",
   "id": "39e66bd6",
   "metadata": {},
   "source": [
    "**Test:** Erweitere die obige Funktion, sodass der nächste Test erfolgreich ist."
   ]
  },
  {
   "cell_type": "code",
   "execution_count": null,
   "id": "10e4071d",
   "metadata": {},
   "outputs": [],
   "source": [
    "test_suche(\n",
    "    test_name = \"n-tes Element, linear\",\n",
    "    test_liste = [5, 0, 9, 3, 7, 15],\n",
    "    such_element = 7,\n",
    "    algorithmus = suche_linear,\n",
    ")"
   ]
  },
  {
   "cell_type": "markdown",
   "id": "5b5ff673",
   "metadata": {},
   "source": [
    "**Test:** Erweitere die obige Funktion, sodass der nächste Test erfolgreich ist. In diesem Fall soll die Funktion keinen Wert zurück geben, sondern einen Fehler \"werfen\". Das machst du z. B. mit diesem Befehl:\n",
    "```\n",
    "    raise ValueError(\"Wert nicht gefunden\")\n",
    "```\n",
    "   "
   ]
  },
  {
   "cell_type": "code",
   "execution_count": null,
   "id": "991371e3",
   "metadata": {},
   "outputs": [],
   "source": [
    "test_kein_ergebnis(\n",
    "    test_name = \"Element nicht vorhanden\",\n",
    "    test_liste = [5, 0, 9, 3, 7, 15],\n",
    "    such_element = 16,\n",
    "    algorithmus = suche_linear,\n",
    ")"
   ]
  },
  {
   "cell_type": "markdown",
   "id": "746bef57",
   "metadata": {},
   "source": [
    "## Binäre Suche\n",
    "\n",
    "**Aufgabe:** Beschreibe in wenigen Sätzen, wie du in einem (großen) Speicher an *sortierten* Dingen ein bestimmtes Ding findest. Nutze aus, dass die Liste sortiert ist."
   ]
  },
  {
   "cell_type": "markdown",
   "id": "88fdd816",
   "metadata": {},
   "source": [
    "**Lösung:** \n",
    "\n",
    "...\n",
    "\n",
    "\n"
   ]
  },
  {
   "cell_type": "markdown",
   "id": "0b9b966d",
   "metadata": {},
   "source": [
    "**Gegeben:** Ein Gerüst für eine Funktion, die deinen Algorithmus umsetzen soll.\n",
    "    \n",
    "Die Funtion nimmt zwei Argumente (Liste an Daten, gesuchtes Element). Sie soll die Position des gesuchten Elements in der Liste (index) zurück geben.\n",
    "\n",
    "Benutze die Tests dazu, um nach und nach den Algorithmus zu entwicklen. Beginne beim ersten Test. Verbessere den Algorithmus nur soviel, dass er diesen Test erfüllt. Dann gehe zum nächsten Test und erweitere deinen Algorithmus."
   ]
  },
  {
   "cell_type": "code",
   "execution_count": null,
   "id": "2cd39376",
   "metadata": {},
   "outputs": [],
   "source": [
    "def suche_binaer(liste, element):\n",
    "    # Lösung kommt hier rein\n",
    "    return -1"
   ]
  },
  {
   "cell_type": "markdown",
   "id": "407cb258",
   "metadata": {},
   "source": [
    "**Test:** Erweitere die obige Funktion, sodass der nächste Test erfolgreich ist."
   ]
  },
  {
   "cell_type": "code",
   "execution_count": null,
   "id": "e4f567db",
   "metadata": {},
   "outputs": [],
   "source": [
    "test_suche(\n",
    "    test_name = \"Ein Element, binaer\",\n",
    "    test_liste = [5],\n",
    "    such_element = 5,\n",
    "    algorithmus = suche_binaer,\n",
    ")"
   ]
  },
  {
   "cell_type": "markdown",
   "id": "c3a7241c-7f7a-4281-b1d1-6a84d5656e5a",
   "metadata": {},
   "source": [
    "**Test:** Erweitere die obige Funktion, sodass der nächste Test erfolgreich ist. In diesem Fall soll die Funktion keinen Wert zurück geben, sondern einen Fehler \"werfen\". Das machst du z. B. mit diesem Befehl:\n",
    "```\n",
    "    raise ValueError(\"Wert nicht gefunden\")\n",
    "```\n",
    "   "
   ]
  },
  {
   "cell_type": "code",
   "execution_count": null,
   "id": "5604c7be-83f3-40b9-b8ec-aee73919bf2b",
   "metadata": {},
   "outputs": [],
   "source": [
    "test_kein_ergebnis(\n",
    "    test_name = \"Ein Element, keine Lösung, binaer\",\n",
    "    test_liste = [5],\n",
    "    such_element = 3,\n",
    "    algorithmus = suche_binaer,\n",
    ")"
   ]
  },
  {
   "cell_type": "markdown",
   "id": "dc159e18",
   "metadata": {},
   "source": [
    "**Test:** Erweitere die obige Funktion, sodass der nächste Test erfolgreich ist."
   ]
  },
  {
   "cell_type": "code",
   "execution_count": null,
   "id": "5241514d",
   "metadata": {},
   "outputs": [],
   "source": [
    "test_suche(\n",
    "    test_name = \"Erstes Element, binaer\",\n",
    "    test_liste = [0, 5],\n",
    "    such_element = 0,\n",
    "    algorithmus = suche_binaer,\n",
    ")"
   ]
  },
  {
   "cell_type": "markdown",
   "id": "47ffdfd8",
   "metadata": {},
   "source": [
    "**Test:** Erweitere die obige Funktion, sodass der nächste Test erfolgreich ist."
   ]
  },
  {
   "cell_type": "code",
   "execution_count": null,
   "id": "7864557f",
   "metadata": {},
   "outputs": [],
   "source": [
    "test_suche(\n",
    "    test_name = \"Zweites Element, binaer\",\n",
    "    test_liste = [0, 5],\n",
    "    such_element = 5,\n",
    "    algorithmus = suche_binaer,\n",
    ")"
   ]
  },
  {
   "cell_type": "markdown",
   "id": "95268819",
   "metadata": {},
   "source": [
    "**Test:** Erweitere die obige Funktion, sodass der nächste Test erfolgreich ist."
   ]
  },
  {
   "cell_type": "code",
   "execution_count": null,
   "id": "948c2946",
   "metadata": {},
   "outputs": [],
   "source": [
    "test_suche(\n",
    "    test_name = \"n-tes Element, binaer\",\n",
    "    test_liste = [0, 3, 5 ,9, 15],\n",
    "    such_element = 9,\n",
    "    algorithmus = suche_binaer,\n",
    ")"
   ]
  },
  {
   "cell_type": "markdown",
   "id": "65c004e4",
   "metadata": {},
   "source": [
    "**Test:** Erweitere die obige Funktion, sodass der nächste Test erfolgreich ist."
   ]
  },
  {
   "cell_type": "code",
   "execution_count": null,
   "id": "c65edb00",
   "metadata": {},
   "outputs": [],
   "source": [
    "test_kein_ergebnis(\n",
    "    test_name = \"Kein Ergebnis, binaer\",\n",
    "    test_liste = [0, 3, 5 ,9, 15],\n",
    "    such_element = 10,\n",
    "    algorithmus = suche_binaer,\n",
    ")"
   ]
  },
  {
   "cell_type": "markdown",
   "id": "02863656",
   "metadata": {},
   "source": [
    "## Zusatzaufgabe:\n",
    "\n",
    "Nun wollen wir messen, wie gut unsere Algorithmen sind. Dazu sollen unsere Suchfunktionen\n",
    "mitzählen, wieviele Iterationen sie für das Ergebnis benötigen.\n",
    "\n",
    "Gehe wie folgt vor:\n",
    "\n",
    "**Aufgabe**: Erweitere die Funktionen (`suche_linear` und `suche_binaer`), sodss sie einen optionalen Parameter nimmt (`def suche_linear(liste, element, iterationen=None)`). Wenn als als drittes Argument eine Liste übergeben wird, so soll die Anzahl der benötigten Iterationen an diese Liste angehängt werden. Hier ist ein Beispiel, wie das funktionieren kann:"
   ]
  },
  {
   "cell_type": "code",
   "execution_count": null,
   "id": "e76ee035",
   "metadata": {},
   "outputs": [],
   "source": [
    "# Beispiel\n",
    "def suche_beispiel(liste, element, iterationen=None):\n",
    "    if type(iterationen) is list:\n",
    "        iterationen.append(5)\n",
    "    return -1\n",
    "\n",
    "iterationen = []\n",
    "suche_beispiel([0,5], 5, iterationen)\n",
    "print(\"Anzahl Iterationen:\", iterationen[0])\n",
    "        "
   ]
  },
  {
   "cell_type": "markdown",
   "id": "42a51f6d",
   "metadata": {},
   "source": [
    "**Aufgabe**: Schreibe eine Funktion, die für eine bestimmte Listengröße eine Liste mit zufälligem Inhalt erstellt. Schaue dir dafür die Funktion `sample` an."
   ]
  },
  {
   "cell_type": "code",
   "execution_count": null,
   "id": "46f5eb3e",
   "metadata": {},
   "outputs": [],
   "source": [
    "from random import sample\n",
    "\n",
    "sample(range(500), 2)"
   ]
  },
  {
   "cell_type": "markdown",
   "id": "280f1cce",
   "metadata": {},
   "source": [
    "**Aufgabe**: Ermittle für die Suche eines beliebigen Elements aus einer zufällig\n",
    "befüllten Liste die durchschnittliche Anzahl an Such-Iterationen. Führe\n",
    "jeweils 10 Versuche durch. Vergleiche bei einer Listenröße von 10, 20, 40\n",
    "und 80 Elementen."
   ]
  },
  {
   "cell_type": "code",
   "execution_count": null,
   "id": "d3d24276",
   "metadata": {},
   "outputs": [],
   "source": []
  }
 ],
 "metadata": {
  "kernelspec": {
   "display_name": "Python 3 (ipykernel)",
   "language": "python",
   "name": "python3"
  },
  "language_info": {
   "codemirror_mode": {
    "name": "ipython",
    "version": 3
   },
   "file_extension": ".py",
   "mimetype": "text/x-python",
   "name": "python",
   "nbconvert_exporter": "python",
   "pygments_lexer": "ipython3",
   "version": "3.8.10"
  }
 },
 "nbformat": 4,
 "nbformat_minor": 5
}
