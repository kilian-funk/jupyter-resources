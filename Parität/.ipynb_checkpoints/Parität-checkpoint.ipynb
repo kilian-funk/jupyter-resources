{
 "cells": [
  {
   "cell_type": "markdown",
   "id": "9056fe5a-eaa0-49b5-bdab-68394795d97a",
   "metadata": {},
   "source": [
    "# Parität\n",
    "Unter Parität versteht man, ob eine Zahl gerade oder ungerade ist. In der Kommunikation kann man damit überprüfen, ob Daten fehlerfrei übertragen wurden. \n",
    "Dazu zählt man in einer Nachricht aus Nullen  und Einsen die Anzahl der Einsen. Ist die Anzahl gerade, hängt man eine Null an. Ist die Anzahl ungerade, so hängt man eine Eins an. Auf diese Art ist die Anzahl der Einsen in einer Nachricht immer gerade.   \n",
    "Erhält ein Empfänger eine Nachricht, bei der die Anzahl der Einsen ungerade ist, so weiß er, dass ein Fehler bei der Übertragung aufgetreten ist, und kann verlangen, dass die Nachricht noch einmal verschickt wird. "
   ]
  },
  {
   "cell_type": "markdown",
   "id": "edc24bd7-a9ed-443b-b736-dcc1922bf256",
   "metadata": {},
   "source": [
    "**Aufgabe:** Schreibe ein Programm, bei dem der Benutzer aufgefordert wird, einen Text aus 25 Nullen und Einsen einzugeben. Speichere die Einabe in der Variablen `eingabe`. Überprüfe die Benutzereingabe auf die richtige Länge."
   ]
  },
  {
   "cell_type": "code",
   "execution_count": 1,
   "id": "2c129fad-9739-4356-9eab-879c542ed0a6",
   "metadata": {},
   "outputs": [],
   "source": [
    "eingabe = \"0111101011101010011010101\""
   ]
  },
  {
   "cell_type": "markdown",
   "id": "893bf5e0-85f4-4e53-8a2a-bc8bce671c92",
   "metadata": {},
   "source": [
    "Jetzt wandeln wir die Zeichenkette in eine Liste aus Listen zu jeweil 5 Zeichen um."
   ]
  },
  {
   "cell_type": "code",
   "execution_count": 58,
   "id": "2d1d2c3d-bfc3-4c59-a6f1-814560b4074d",
   "metadata": {},
   "outputs": [
    {
     "name": "stdout",
     "output_type": "stream",
     "text": [
      "[['0', '1', '1', '1', '1'], ['0', '1', '0', '1', '1'], ['1', '0', '1', '0', '1'], ['0', '0', '1', '1', '0'], ['1', '0', '1', '0', '1']]\n"
     ]
    }
   ],
   "source": [
    "liste = []\n",
    "for zeilenanfang in range(0,25,5): # Zählt in 5er-Schritten\n",
    "    zeilenende = zeilenanfang+5\n",
    "    liste.append(list(eingabe[zeilenanfang:zeilenende]))\n",
    "    \n",
    "# Ausgabe\n",
    "print(liste)"
   ]
  },
  {
   "cell_type": "markdown",
   "id": "2669260e-3aea-4131-856d-f31b5ad5a408",
   "metadata": {},
   "source": [
    "**Aufgabe:** Jetzt beginnen wir mit der Berechnung des Paritäts-Bits. Schreibe eine Funktion, die die Parität der Einsen in der Zeichenkette berechnet. Bei gerader Anzahl gibt sie 0 zurück, bei ungerader Anzahl eine 1. Du brauchst dafür eine Schleife, eine Verzweigung (`if`) und den Modulo-Operator (`%`).\n",
    "\n",
    "Probiere mit den Zeichenketten aus der `liste` aus, ob es funktioniert. "
   ]
  },
  {
   "cell_type": "code",
   "execution_count": 59,
   "id": "66a4dbf3-3e66-4392-bb4f-5d55916ac758",
   "metadata": {},
   "outputs": [
    {
     "name": "stdout",
     "output_type": "stream",
     "text": [
      "-1\n",
      "-1\n",
      "-1\n",
      "-1\n",
      "-1\n"
     ]
    }
   ],
   "source": [
    "def parität(zeichkette):\n",
    "    # hier muss deine Lösung rein\n",
    "    return -1\n",
    "\n",
    "# Ausgabe\n",
    "for zeichenkette in liste:\n",
    "    print(parität(zeichenkette))"
   ]
  },
  {
   "cell_type": "markdown",
   "id": "c7200d28-81e2-47e0-afa6-22446541f312",
   "metadata": {},
   "source": [
    "**Aufgabe:** Schreibe eine Funktion, die an die Zeichenkette eine 0 oder 1 anhängt, so dass die Parität des Ergebnisses immer gerade ist. Verwende dazu die vorherige Funktion `parität`, wandle das Ergebnis mithilfe der `str()` Funktion in ein Zeichenkette um und hänge es an die ursprüngliche Zeichenkette an.\n",
    "\n",
    "Überprüfe das Ergebnis an der `liste` der eingegebenen Zeichnketten.\n"
   ]
  },
  {
   "cell_type": "code",
   "execution_count": 60,
   "id": "5f8f6c48-47c8-47aa-8d9d-a603bafea06f",
   "metadata": {},
   "outputs": [
    {
     "name": "stdout",
     "output_type": "stream",
     "text": [
      "['h', 'i', 'e', 'r', ' ', 'i', 's', 't', ' ', 'n', 'o', 'c', 'h', ' ', 'e', 'i', 'n', ' ', 'F', 'e', 'h', 'l', 'e', 'r']\n",
      "['h', 'i', 'e', 'r', ' ', 'i', 's', 't', ' ', 'n', 'o', 'c', 'h', ' ', 'e', 'i', 'n', ' ', 'F', 'e', 'h', 'l', 'e', 'r']\n",
      "['h', 'i', 'e', 'r', ' ', 'i', 's', 't', ' ', 'n', 'o', 'c', 'h', ' ', 'e', 'i', 'n', ' ', 'F', 'e', 'h', 'l', 'e', 'r']\n",
      "['h', 'i', 'e', 'r', ' ', 'i', 's', 't', ' ', 'n', 'o', 'c', 'h', ' ', 'e', 'i', 'n', ' ', 'F', 'e', 'h', 'l', 'e', 'r']\n",
      "['h', 'i', 'e', 'r', ' ', 'i', 's', 't', ' ', 'n', 'o', 'c', 'h', ' ', 'e', 'i', 'n', ' ', 'F', 'e', 'h', 'l', 'e', 'r']\n"
     ]
    }
   ],
   "source": [
    "def ergänze_auf_gerade_parität(zeichenkette):\n",
    "    # hier muss deine Lösung rein\n",
    "    return list(\"hier ist noch ein Fehler\")\n",
    "\n",
    "# Ausgabe\n",
    "for zeichkette in liste:\n",
    "    print(ergänze_auf_gerade_parität(zeichenkette))"
   ]
  },
  {
   "cell_type": "markdown",
   "id": "2cb8fc66-59ef-42d7-99b6-af92b41d9352",
   "metadata": {},
   "source": [
    "Mit der von dir geschriebenen Funktion können wir eine neue Liste mit gerader Parität erzeugen."
   ]
  },
  {
   "cell_type": "code",
   "execution_count": 71,
   "id": "abae6f16-9525-4526-8ffe-b67e9db3eb86",
   "metadata": {},
   "outputs": [
    {
     "name": "stdout",
     "output_type": "stream",
     "text": [
      "[['h', 'i', 'e', 'r', ' ', 'i', 's', 't', ' ', 'n', 'o', 'c', 'h', ' ', 'e', 'i', 'n', ' ', 'F', 'e', 'h', 'l', 'e', 'r'], ['h', 'i', 'e', 'r', ' ', 'i', 's', 't', ' ', 'n', 'o', 'c', 'h', ' ', 'e', 'i', 'n', ' ', 'F', 'e', 'h', 'l', 'e', 'r'], ['h', 'i', 'e', 'r', ' ', 'i', 's', 't', ' ', 'n', 'o', 'c', 'h', ' ', 'e', 'i', 'n', ' ', 'F', 'e', 'h', 'l', 'e', 'r'], ['h', 'i', 'e', 'r', ' ', 'i', 's', 't', ' ', 'n', 'o', 'c', 'h', ' ', 'e', 'i', 'n', ' ', 'F', 'e', 'h', 'l', 'e', 'r'], ['h', 'i', 'e', 'r', ' ', 'i', 's', 't', ' ', 'n', 'o', 'c', 'h', ' ', 'e', 'i', 'n', ' ', 'F', 'e', 'h', 'l', 'e', 'r']]\n"
     ]
    }
   ],
   "source": [
    "liste_mit_gerader_parität = [ergänze_auf_gerade_parität(zeichenkette) for zeichenkette in liste]\n",
    "\n",
    "print(liste_mit_gerader_parität)"
   ]
  },
  {
   "cell_type": "markdown",
   "id": "5b13bd65-b408-4fda-9ffd-7b183f66abb2",
   "metadata": {},
   "source": [
    "Nun berechnen wir die Paritäts-Bits für die Spalten der Liste und hängen sie an die Liste an."
   ]
  },
  {
   "cell_type": "code",
   "execution_count": 72,
   "id": "5146e89c-79c1-40a9-b3b1-de3f1e7e442d",
   "metadata": {},
   "outputs": [
    {
     "name": "stdout",
     "output_type": "stream",
     "text": [
      "[['h', 'i', 'e', 'r', ' ', 'i', 's', 't', ' ', 'n', 'o', 'c', 'h', ' ', 'e', 'i', 'n', ' ', 'F', 'e', 'h', 'l', 'e', 'r'], ['h', 'i', 'e', 'r', ' ', 'i', 's', 't', ' ', 'n', 'o', 'c', 'h', ' ', 'e', 'i', 'n', ' ', 'F', 'e', 'h', 'l', 'e', 'r'], ['h', 'i', 'e', 'r', ' ', 'i', 's', 't', ' ', 'n', 'o', 'c', 'h', ' ', 'e', 'i', 'n', ' ', 'F', 'e', 'h', 'l', 'e', 'r'], ['h', 'i', 'e', 'r', ' ', 'i', 's', 't', ' ', 'n', 'o', 'c', 'h', ' ', 'e', 'i', 'n', ' ', 'F', 'e', 'h', 'l', 'e', 'r'], ['h', 'i', 'e', 'r', ' ', 'i', 's', 't', ' ', 'n', 'o', 'c', 'h', ' ', 'e', 'i', 'n', ' ', 'F', 'e', 'h', 'l', 'e', 'r'], ['-1', '-1', '-1', '-1', '-1', '-1']]\n"
     ]
    }
   ],
   "source": [
    "def spalte_aus_liste(liste, spaltennummer):\n",
    "    return [zeile[spaltennummer] for zeile in liste]\n",
    "\n",
    "spalten_paritäten = [str(parität(spalte_aus_liste(liste_mit_gerader_parität, i))) for i in range(6)]\n",
    "liste_mit_gerader_parität.append(spalten_paritäten)\n",
    "\n",
    "print(liste_mit_gerader_parität)"
   ]
  },
  {
   "cell_type": "markdown",
   "id": "2c7eb32a-dd3b-4035-8e3b-466bab5bcb69",
   "metadata": {},
   "source": [
    "Mit dieser Funktion können wir einen Bitfehler simulieren:"
   ]
  },
  {
   "cell_type": "code",
   "execution_count": 68,
   "id": "06c270a2-144e-4351-82a9-c579d8c20617",
   "metadata": {},
   "outputs": [
    {
     "name": "stdout",
     "output_type": "stream",
     "text": [
      "[['h', 'i', 'e', 'r', ' ', 'i', 's', 't', ' ', 'n', 'o', 'c', 'h', ' ', 'e', 'i', 'n', ' ', 'F', 'e', 'h', 'l', 'e', 'r'], ['h', '0', 'e', 'r', ' ', 'i', 's', 't', ' ', 'n', 'o', 'c', 'h', ' ', 'e', 'i', 'n', ' ', 'F', 'e', 'h', 'l', 'e', 'r'], ['h', 'i', 'e', 'r', ' ', 'i', 's', 't', ' ', 'n', 'o', 'c', 'h', ' ', 'e', 'i', 'n', ' ', 'F', 'e', 'h', 'l', 'e', 'r'], ['h', 'i', 'e', 'r', ' ', 'i', 's', 't', ' ', 'n', 'o', 'c', 'h', ' ', 'e', 'i', 'n', ' ', 'F', 'e', 'h', 'l', 'e', 'r'], ['h', 'i', 'e', 'r', ' ', 'i', '0', 't', ' ', 'n', 'o', 'c', 'h', ' ', 'e', 'i', 'n', ' ', 'F', 'e', 'h', 'l', 'e', 'r'], ['0', '0', '0', '0', '0', '0']]\n"
     ]
    }
   ],
   "source": [
    "from random import randint\n",
    "\n",
    "kaputte_zeile = randint(0,6)\n",
    "kaputte_spalte = randint(0,6)\n",
    "\n",
    "liste_mit_gerader_parität[kaputte_zeile][kaputte_spalte] = \"1\" if liste_mit_gerader_parität[kaputte_zeile][kaputte_spalte] == \"0\" else \"0\"\n",
    "\n",
    "print(liste_mit_gerader_parität)"
   ]
  },
  {
   "cell_type": "markdown",
   "id": "72405a4f-af11-49b0-9aaf-cd702519de45",
   "metadata": {},
   "source": [
    "Jetzt können wir den Fehler finden:\n"
   ]
  },
  {
   "cell_type": "code",
   "execution_count": 73,
   "id": "97e37fa2-fa8e-4de5-8dd8-d17339846b78",
   "metadata": {},
   "outputs": [
    {
     "name": "stdout",
     "output_type": "stream",
     "text": [
      "Fehler in Zeile 0\n",
      "Fehler in Zeile 1\n",
      "Fehler in Zeile 2\n",
      "Fehler in Zeile 3\n",
      "Fehler in Zeile 4\n",
      "Fehler in Zeile 5\n",
      "Fehler in Spalte 0\n",
      "Fehler in Spalte 1\n",
      "Fehler in Spalte 2\n",
      "Fehler in Spalte 3\n",
      "Fehler in Spalte 4\n",
      "Fehler in Spalte 5\n"
     ]
    }
   ],
   "source": [
    "for nummer, zeile in enumerate(liste_mit_gerader_parität):\n",
    "    if parität(zeile) != 0:\n",
    "        print(\"Fehler in Zeile\", nummer)\n",
    "\n",
    "for nummer in range(6):\n",
    "    spalte = spalte_aus_liste(liste_mit_gerader_parität, nummer)\n",
    "    if parität(spalte) != 0:\n",
    "        print(\"Fehler in Spalte\", nummer)\n"
   ]
  },
  {
   "cell_type": "code",
   "execution_count": null,
   "id": "95b235f7-9bf6-4c33-9b25-b3fd064ed18f",
   "metadata": {},
   "outputs": [],
   "source": []
  },
  {
   "cell_type": "code",
   "execution_count": null,
   "id": "0ce35ebb-6866-46ae-adf8-08cd6b4dbd74",
   "metadata": {},
   "outputs": [],
   "source": []
  },
  {
   "cell_type": "code",
   "execution_count": null,
   "id": "807d82b4-e24a-4dfe-b351-b97e5366e86a",
   "metadata": {},
   "outputs": [],
   "source": []
  }
 ],
 "metadata": {
  "kernelspec": {
   "display_name": "Python 3 (ipykernel)",
   "language": "python",
   "name": "python3"
  },
  "language_info": {
   "codemirror_mode": {
    "name": "ipython",
    "version": 3
   },
   "file_extension": ".py",
   "mimetype": "text/x-python",
   "name": "python",
   "nbconvert_exporter": "python",
   "pygments_lexer": "ipython3",
   "version": "3.8.10"
  }
 },
 "nbformat": 4,
 "nbformat_minor": 5
}
