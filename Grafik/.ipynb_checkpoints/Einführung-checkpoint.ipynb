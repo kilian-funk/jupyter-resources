{
 "cells": [
  {
   "cell_type": "markdown",
   "id": "087ffe5e-ecc8-4cd6-a487-ee4d5b1aa60c",
   "metadata": {},
   "source": [
    "# Zeichnen mit Jupyter\n",
    "Die Bibliothek `ipycanvas` erlaubt uns, auf eine Leinwand (canvas) beliebige Dinge zu zeichnen. Hilfe zur Bibliothek findest du hier: https://ipycanvas.readthedocs.io/en/latest/basic_usage.html. Eine komplette Auflistung aller Befehle findest du hier: https://ipycanvas.readthedocs.io/en/latest/api.html.\n",
    "\n",
    "\n",
    "Dazu importieren wir aus der Bibiliothek `ipycanvas` die Klasse `Canvas`. Wir erstelle eine Zeichenfläche. Dabei legst du die Größe in Pixel fest. Wir legen eine Farbe zum Ausmalen fest (grün). Wir malen den Hintergrund in der gesetzten Farbe an. Zum Schluss geben wir die Leinwand aus."
   ]
  },
  {
   "cell_type": "code",
   "execution_count": null,
   "id": "ececcd76-1cce-4524-b652-7ddc2def20b0",
   "metadata": {
    "tags": []
   },
   "outputs": [],
   "source": [
    "from ipycanvas import Canvas\n",
    "leinwand = Canvas(width=400, height=400)\n",
    "leinwand.fill_style = \"green\"\n",
    "leinwand.fill_rect(0, 0, leinwand.width, leinwand.height)\n",
    "leinwand"
   ]
  },
  {
   "cell_type": "markdown",
   "id": "d48f2db7-92ec-427e-8ff1-d93cc8dd1674",
   "metadata": {},
   "source": [
    "Wir zeichnen einfache Formen auf die Leinwand. Orte werden mit x und y Koordinaten angegeben. Größen mit Breite und Höhe. Zwischen den Zeichenbefehlen sind Pausen, um besser zu verfolgen, was gezeichnet wird.\n",
    "\n",
    "Versuche zu verstehen, was die einzelnen Befehle tun. "
   ]
  },
  {
   "cell_type": "code",
   "execution_count": null,
   "id": "a16e2c11-0d9e-480d-b17e-25c15a70fdf1",
   "metadata": {},
   "outputs": [],
   "source": [
    "import time\n",
    "\n",
    "leinwand.line_style = \"black\"\n",
    "leinwand.stroke_line(0,300,400,300)\n",
    "time.sleep(1)\n",
    "\n",
    "leinwand.fill_style = \"blue\"\n",
    "for i in range(5):\n",
    "    leinwand.fill_rect(40+i*60, 180, 50, 80)\n",
    "    time.sleep(1)\n",
    "\n",
    "\n",
    "polygon = [[50,50], [100,50], [125,95], [100,140], [50,140], [25, 95]]\n",
    "leinwand.fill_style = \"red\"\n",
    "leinwand.fill_polygon(polygon)\n",
    "time.sleep(1)\n",
    "\n",
    "leinwand.stroke_style = \"purple\"\n",
    "leinwand.stroke_circle(300, 100, 50)\n",
    "time.sleep(1)\n",
    "\n",
    "leinwand.font = \"64px serif\"\n",
    "leinwand.fill_text(\"Hallo Welt!\", 75,370)"
   ]
  },
  {
   "cell_type": "markdown",
   "id": "84554934-e60f-4dc5-9e04-b15e32eb7d8f",
   "metadata": {},
   "source": [
    "**Aufgabe**:\n",
    "* Wie liegt das Koordinatensystem in der  Leinwand?\n",
    "* Wo ist der Ursprung?\n",
    "* In welche Richtung zeigen die x- und y-Achse?"
   ]
  },
  {
   "cell_type": "markdown",
   "id": "c998372a-b799-49e8-9e7b-147f7b31a8fe",
   "metadata": {},
   "source": [
    "**Aufgabe:** Zeichne auf einer neuen Leinwand das *Haus vom Nikolaus* als Polygon. Verwende dazu den Befehl `stroke_polygon()`."
   ]
  },
  {
   "cell_type": "code",
   "execution_count": null,
   "id": "5c3caaea-1775-4607-a446-0f155d0da2da",
   "metadata": {},
   "outputs": [],
   "source": [
    "from ipycanvas import Canvas\n",
    "leinwand = Canvas(width=400, height=400)\n",
    "leinwand"
   ]
  },
  {
   "cell_type": "code",
   "execution_count": null,
   "id": "2499c929-0835-40bd-bdaf-822049c641fa",
   "metadata": {},
   "outputs": [],
   "source": []
  },
  {
   "cell_type": "markdown",
   "id": "7ac6e7e0-5af1-4bbb-a66e-e595477d0841",
   "metadata": {},
   "source": [
    "Übrigens: mit dem `clear()`-Befehl kannst eine Leinwand wieder löschen. Probier es aus."
   ]
  },
  {
   "cell_type": "code",
   "execution_count": null,
   "id": "ec56122c-d99a-434d-822a-8220ff1eadc3",
   "metadata": {},
   "outputs": [],
   "source": [
    "leinwand.clear()"
   ]
  },
  {
   "cell_type": "markdown",
   "id": "3ce89bc0-5ed4-43f7-b7c2-f97768533fc3",
   "metadata": {},
   "source": [
    "Jetzt wird's dynamisch. Wenn wir auf die Maus reagieren wollen, dann findest du hier ein erstes Beispiel, wie das funktioniert. Man definiert dafür Funktionen, die bei bestimmten Ereignissen aufgerufen werden. Damit das auch fuktioniert, muss man die Funktionen an der Leinwand anmelden."
   ]
  },
  {
   "cell_type": "code",
   "execution_count": null,
   "id": "c869134b-ed79-4631-9a18-d26a72987650",
   "metadata": {},
   "outputs": [],
   "source": [
    "from ipywidgets import Output\n",
    "\n",
    "out = Output()\n",
    "\n",
    "\n",
    "@out.capture()\n",
    "def handle_mouse_move(x, y):\n",
    "    print(\"Mouse move event:\", x, y)\n",
    "\n",
    "\n",
    "leinwand.on_mouse_move(handle_mouse_move)\n",
    "\n",
    "\n",
    "@out.capture()\n",
    "def handle_mouse_down(x, y):\n",
    "    print(\"Mouse down event:\", x, y)\n",
    "\n",
    "\n",
    "leinwand.on_mouse_down(handle_mouse_down)\n",
    "\n",
    "display(out)"
   ]
  },
  {
   "cell_type": "code",
   "execution_count": null,
   "id": "e14a6740-97da-4e63-83a1-c51cefd208bb",
   "metadata": {},
   "outputs": [],
   "source": []
  }
 ],
 "metadata": {
  "kernelspec": {
   "display_name": "Python 3 (ipykernel)",
   "language": "python",
   "name": "python3"
  },
  "language_info": {
   "codemirror_mode": {
    "name": "ipython",
    "version": 3
   },
   "file_extension": ".py",
   "mimetype": "text/x-python",
   "name": "python",
   "nbconvert_exporter": "python",
   "pygments_lexer": "ipython3",
   "version": "3.9.7"
  }
 },
 "nbformat": 4,
 "nbformat_minor": 5
}
