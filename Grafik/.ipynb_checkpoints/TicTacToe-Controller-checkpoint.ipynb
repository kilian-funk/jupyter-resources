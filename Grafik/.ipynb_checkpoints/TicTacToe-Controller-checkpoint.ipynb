{
 "cells": [
  {
   "cell_type": "markdown",
   "id": "76e24ba4-7beb-4b7f-bb76-cd617ba7eea2",
   "metadata": {},
   "source": [
    "# TicTacToe - Controller\n",
    "Wir wollen mit kleinen Tests unser Spiel Stück für Stück erweitern. Probieren wir erstmal, ob die Ausgabe funktioniert."
   ]
  },
  {
   "cell_type": "markdown",
   "id": "8b00ccac-6329-491a-8e78-92334198764d",
   "metadata": {},
   "source": [
    "**Test 1:** Ausgabe"
   ]
  },
  {
   "cell_type": "code",
   "execution_count": null,
   "id": "c8fd6148-deb8-454b-87b9-72946591c6ce",
   "metadata": {},
   "outputs": [],
   "source": [
    "%run TicTacToe-Ansicht.ipynb\n",
    "leinwand = Canvas(width=300, height=300)\n",
    "leinwand"
   ]
  },
  {
   "cell_type": "code",
   "execution_count": null,
   "id": "9e805fa7-6007-41a4-ba9e-d6202c40ff59",
   "metadata": {},
   "outputs": [],
   "source": [
    "zeichne_spielfeld()\n",
    "zeichne_symbol(\"links oben\", Belegung.KREUZ)\n",
    "zeichne_symbol(\"links mitte\", Belegung.KREIS)"
   ]
  },
  {
   "cell_type": "markdown",
   "id": "d3d34a2b-54e7-498f-b34a-0143253d8448",
   "metadata": {},
   "source": [
    "**Test 2:** Erweitere das Spiel-Modell, sodass es immer weis, wo welche Steine stehen und keine Felder doppelt belegt werden."
   ]
  },
  {
   "cell_type": "code",
   "execution_count": null,
   "id": "9066a548-3691-40c6-8516-7386b66ca2d6",
   "metadata": {},
   "outputs": [],
   "source": [
    "%run TicTacToe-Ansicht.ipynb\n",
    "leinwand = Canvas(width=300, height=300)\n",
    "leinwand"
   ]
  },
  {
   "cell_type": "code",
   "execution_count": null,
   "id": "9e72a0c5-fe42-4706-b8c1-3ebc4aa9db8c",
   "metadata": {},
   "outputs": [],
   "source": [
    "spiel = TicTacToe()\n",
    "assert spiel.setze(\"links oben\", Belegung.KREUZ) == Zustand.OK\n",
    "assert spiel.setze(\"rechts oben\", Belegung.KREIS) == Zustand.OK\n",
    "assert spiel.setze(\"links oben\", Belegung.KREUZ) == Zustand.NICHT_ERLAUBT"
   ]
  },
  {
   "cell_type": "markdown",
   "id": "0d1a7fba-2d1b-462d-91c5-d4fa50dc747f",
   "metadata": {},
   "source": [
    "**Test 3:** Erweitere das Spiel-Modell, sodass es auf die Reihenfolge achtet. (KREUZ beginnt immer)"
   ]
  },
  {
   "cell_type": "code",
   "execution_count": null,
   "id": "d7231319-a77b-48ed-bbfc-72ec35430030",
   "metadata": {},
   "outputs": [],
   "source": [
    "%run TicTacToe-Ansicht.ipynb\n",
    "leinwand = Canvas(width=300, height=300)\n",
    "leinwand"
   ]
  },
  {
   "cell_type": "code",
   "execution_count": null,
   "id": "000ecda0-7f54-4182-9dd2-7675251f2c42",
   "metadata": {},
   "outputs": [],
   "source": [
    "spiel = TicTacToe()\n",
    "assert spiel.zustand() == Zustand.KREUZ_IST_AM_ZUG\n",
    "assert spiel.setze(\"links oben\", Belegung.KREUZ) == Zustand.OK\n",
    "assert spiel.zustand() == Zustand.KREIS_IST_AM_ZUG\n",
    "assert spiel.setze(\"rechts oben\", Belegung.KREUZ) == Zustand.NICHT_ERLAUBT\n",
    "assert spiel.zustand() == Zustand.KREIS_IST_AM_ZUG\n",
    "assert spiel.setze(\"rechts oben\", Belegung.KREIS) == Zustand.OK\n",
    "assert spiel.zustand() == Zustand.KREUZ_IST_AM_ZUG\n",
    "assert spiel.setze(\"mitte unten\", Belegung.KREIS) == Zustand.NICHT_ERLAUBT\n",
    "assert spiel.setze(\"mitte unten\", Belegung.KREUZ) == Zustand.OK"
   ]
  },
  {
   "cell_type": "markdown",
   "id": "b045da61-a9c3-485e-b8d3-63812300fcde",
   "metadata": {},
   "source": [
    "**Test 4:** Erweitere das Spiel-Modell, sodass es den Sieger ermittelt"
   ]
  },
  {
   "cell_type": "code",
   "execution_count": null,
   "id": "51e2470f-29d3-48a7-9c62-bc9bbc75c9ab",
   "metadata": {},
   "outputs": [],
   "source": [
    "%run TicTacToe-Ansicht.ipynb\n",
    "leinwand = Canvas(width=300, height=300)\n",
    "leinwand"
   ]
  },
  {
   "cell_type": "code",
   "execution_count": null,
   "id": "4e31a2e2-fe25-4f27-b74e-32c13c528b62",
   "metadata": {},
   "outputs": [],
   "source": [
    "spiel = TicTacToe()\n",
    "assert spiel.setze(\"links oben\", Belegung.KREUZ) == Zustand.OK\n",
    "assert spiel.setze(\"links mitte\", Belegung.KREIS) == Zustand.OK\n",
    "assert spiel.setze(\"mitte oben\", Belegung.KREUZ) == Zustand.OK\n",
    "assert spiel.setze(\"mitte mitte\", Belegung.KREIS) == Zustand.OK\n",
    "assert spiel.setze(\"rechts oben\", Belegung.KREUZ) == Zustand.KREUZ_GEWINNT\n",
    "assert spiel.zustand() == Zustand.KREUZ_GEWINNT"
   ]
  },
  {
   "cell_type": "markdown",
   "id": "8d42c208-4e32-4010-8e40-a2e7d9c446c9",
   "metadata": {},
   "source": [
    "**Test 5:** Schreibe einen Test, der den Zustand Unentschieden prüft"
   ]
  },
  {
   "cell_type": "code",
   "execution_count": null,
   "id": "95df8c69-aa5e-4e24-acb0-3c6c0f4fa917",
   "metadata": {},
   "outputs": [],
   "source": [
    "%run TicTacToe-Ansicht.ipynb\n",
    "leinwand = Canvas(width=300, height=300)\n",
    "leinwand"
   ]
  },
  {
   "cell_type": "code",
   "execution_count": null,
   "id": "95ae356b-8e05-4df5-8fb3-da9537668784",
   "metadata": {},
   "outputs": [],
   "source": []
  },
  {
   "cell_type": "markdown",
   "id": "902cac8d-fd78-4951-aabd-0571edb3420d",
   "metadata": {},
   "source": [
    "**Spiele eine Partie.** Wie kannst du das Programm verbessern, dass es mit Fehleingaben besser umgehen kann?"
   ]
  },
  {
   "cell_type": "code",
   "execution_count": null,
   "id": "77ade6f5-183c-4843-9581-089d32551140",
   "metadata": {},
   "outputs": [],
   "source": [
    "%run TicTacToe-Ansicht.ipynb\n",
    "leinwand = Canvas(width=300, height=300)\n",
    "leinwand"
   ]
  },
  {
   "cell_type": "code",
   "execution_count": null,
   "id": "7708bc60-daf1-4522-9cd9-57c219d3c42a",
   "metadata": {},
   "outputs": [],
   "source": [
    "spiel = TicTacToe()\n",
    "\n",
    "def berichte_zustand(zustand):\n",
    "    print(zustand)\n",
    "\n",
    "def spieler_eingabe(ansicht):\n",
    "    return input(\"Wo setzt du? \")\n",
    "\n",
    "while (spiel.laeuft()):\n",
    "    berichte_zustand(spiel.zustand())\n",
    "    eingabe = spieler_eingabe(ansicht)\n",
    "    spiel.setze(eingabe, spiel.naechster_zug())\n",
    "    \n",
    "berichte_zustand(spiel.zustand())\n",
    "   "
   ]
  },
  {
   "cell_type": "code",
   "execution_count": null,
   "id": "ced39f5a-7272-4d85-a0ba-09a16b29d098",
   "metadata": {},
   "outputs": [],
   "source": []
  }
 ],
 "metadata": {
  "kernelspec": {
   "display_name": "Python 3 (ipykernel)",
   "language": "python",
   "name": "python3"
  },
  "language_info": {
   "codemirror_mode": {
    "name": "ipython",
    "version": 3
   },
   "file_extension": ".py",
   "mimetype": "text/x-python",
   "name": "python",
   "nbconvert_exporter": "python",
   "pygments_lexer": "ipython3",
   "version": "3.9.7"
  }
 },
 "nbformat": 4,
 "nbformat_minor": 5
}
