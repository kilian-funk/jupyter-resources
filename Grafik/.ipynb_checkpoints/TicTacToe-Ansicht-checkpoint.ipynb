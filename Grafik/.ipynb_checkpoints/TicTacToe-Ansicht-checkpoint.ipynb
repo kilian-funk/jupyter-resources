{
 "cells": [
  {
   "cell_type": "markdown",
   "id": "88c7f44f-7505-4672-813b-0c1f53b5670a",
   "metadata": {},
   "source": [
    "# TicTacToe - Ansicht (view)"
   ]
  },
  {
   "cell_type": "markdown",
   "id": "021f5262-61b6-4cf0-ae2e-b375f7ea254a",
   "metadata": {},
   "source": [
    "In der Vergangenheit hast du den EVA-Prozess kennengelernt: Eingabe - Verarbeitung - Ausgabe.\n",
    "\n",
    "Fuer interaktive Anwendungen wie Spiele genuegt das aber nicht aus, weil sich dabei Eingabe, Verarbeitung, Ausgabe immer wiederholen. Dafür eignet sich eher das System: Model-View-Controller (MVC). Lies dir dafür das Blatt zum Programmaufbau durch: [Programmaufbau](../Grundlagen/Programmaufbau.ipynb). \n",
    "\n",
    "Jetzt wollen wir das mal praktisch versuchen. Dazu erarbeiten wir uns zunächst die Komponenten, die wir für die Ausgabe (view) benötigen.\n",
    "\n",
    "Wir beginnen mit ein paar Funktionen zum Anzeigen von Spielfeld und Spieler-Markierungen. Wir starten mit dem Erzeugen einer Zeichenfläche:"
   ]
  },
  {
   "cell_type": "code",
   "execution_count": 4,
   "id": "c9750de0-358f-4959-8ae3-d2168d0d485c",
   "metadata": {},
   "outputs": [
    {
     "data": {
      "application/vnd.jupyter.widget-view+json": {
       "model_id": "5ac8f103ab4549949d837cf1e331133f",
       "version_major": 2,
       "version_minor": 0
      },
      "text/plain": [
       "Canvas(height=300, width=300)"
      ]
     },
     "metadata": {},
     "output_type": "display_data"
    }
   ],
   "source": [
    "from ipycanvas import Canvas\n",
    "\n",
    "leinwand = Canvas(width=300, height=300)\n",
    "leinwand"
   ]
  },
  {
   "cell_type": "markdown",
   "id": "0ed4448b-c133-4063-bf4d-3b7be154a26f",
   "metadata": {},
   "source": [
    "**Aufgabe:** Zeichne ein Spielfeld fuer *TicTacToe*. Ein Spielfeld besteht aus 3x3 Spielfeldern, die als solche erkennbar sein müssen. Verpacke alles in eine Funktion, damit wir sie später wiederholt aufrufen können."
   ]
  },
  {
   "cell_type": "code",
   "execution_count": null,
   "id": "d8043471-227e-4283-9eef-75e39d1cbdcd",
   "metadata": {
    "tags": []
   },
   "outputs": [],
   "source": [
    "def zeichne_spielfeld():\n",
    "    pass\n"
   ]
  },
  {
   "cell_type": "markdown",
   "id": "cc74d605-220b-4066-a0f9-4e10d0035744",
   "metadata": {},
   "source": [
    "Jetzt überlegen wir uns, wie wir die Positionen auf dem Spielfeld bezeichnen wollen. Wir können zum Beispiel den einzelnen Feldern Namen geben. Das linke, obere Feld heisst z. B. `\"links oben\"`. Wichtig ist, dass wir die festgelegten Namen immer gleich verwenden. Damit können wir zum Beispiel die Koordinaten der Spielpositionen in einem Wörterbuch speichern:"
   ]
  },
  {
   "cell_type": "code",
   "execution_count": 8,
   "id": "cf326125-07c0-435f-8469-ea1091187d7f",
   "metadata": {},
   "outputs": [],
   "source": [
    "spielfeld_koordinaten = {\n",
    "    \"links oben\": (50, 50),\n",
    "    \"mitte oben\": (150, 50),\n",
    "    \"rechts oben\": (250, 50),\n",
    "    # Wie geht es weiter?\n",
    "}\n",
    "    "
   ]
  },
  {
   "cell_type": "markdown",
   "id": "8abf2438-ca5a-4393-9945-4667aa7238fa",
   "metadata": {},
   "source": [
    "**Aufgabe:** Schreibe eine Funktion, die an ein bestimmtes Spielfeld einen Kreis zeichnet"
   ]
  },
  {
   "cell_type": "code",
   "execution_count": null,
   "id": "44ed313c-f720-4463-8a5e-87424c4afc69",
   "metadata": {},
   "outputs": [],
   "source": [
    "def zeichne_kreis(position):\n",
    "    pass"
   ]
  },
  {
   "cell_type": "markdown",
   "id": "ee21b153-abd7-4da2-9998-4afa6d1b2a8e",
   "metadata": {},
   "source": [
    "**Aufgabe:** Schreibe eine Funktion, die an ein bestimmtes Spielfeld ein Kreuz zeichnet"
   ]
  },
  {
   "cell_type": "code",
   "execution_count": null,
   "id": "ee3e29d3-1b56-46a6-9c6e-fd0906800088",
   "metadata": {},
   "outputs": [],
   "source": [
    "def zeichne_kreuz(position):\n",
    "    pass"
   ]
  },
  {
   "cell_type": "markdown",
   "id": "a990117c-1144-499f-8e37-d8daf4db83bd",
   "metadata": {},
   "source": [
    "Arbeite jetzt am Modell weiter. Öffne dazu das Arbeitsblatt [TicTacToe-Modell.ipynb](TicTacToe-Modell.ipynb)"
   ]
  },
  {
   "cell_type": "markdown",
   "id": "becf78a4-07b1-4920-a768-09701e7f8b77",
   "metadata": {},
   "source": [
    "Mit der Definition fuer die Belegung eines Feldes können wir jetzt eine Funktion schreiben, die sowohl ein Kreuz, als auch einen Kreis zeichnen kann:"
   ]
  },
  {
   "cell_type": "code",
   "execution_count": 8,
   "id": "66d1f9b1-1737-4b36-8450-5cae49220fc9",
   "metadata": {},
   "outputs": [],
   "source": [
    "%run TicTacToe-Modell.ipynb\n",
    "\n",
    "def zeichne_symbol(position, symbol):\n",
    "    if symbol == Belegung.KREIS:\n",
    "        zeichne_kreis(position)\n",
    "    elif symbol == Belegung.KREUZ:\n",
    "        zeichne_kreuz(position)\n",
    "    else:\n",
    "        raise ValueError(\"Belegung nicht erlaubt!\")\n",
    "        "
   ]
  },
  {
   "cell_type": "code",
   "execution_count": null,
   "id": "93bded73-bfe7-4550-83f2-b9cc4feebc16",
   "metadata": {},
   "outputs": [],
   "source": []
  }
 ],
 "metadata": {
  "kernelspec": {
   "display_name": "Python 3 (ipykernel)",
   "language": "python",
   "name": "python3"
  },
  "language_info": {
   "codemirror_mode": {
    "name": "ipython",
    "version": 3
   },
   "file_extension": ".py",
   "mimetype": "text/x-python",
   "name": "python",
   "nbconvert_exporter": "python",
   "pygments_lexer": "ipython3",
   "version": "3.9.7"
  }
 },
 "nbformat": 4,
 "nbformat_minor": 5
}
