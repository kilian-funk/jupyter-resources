{
 "cells": [
  {
   "cell_type": "markdown",
   "id": "968c4267-16fd-47aa-8935-37acdbb6a220",
   "metadata": {},
   "source": [
    "# TicTacToe - Modell (model)\n",
    "Jetzt wollen wir das Modell zu unserem TicTacToe-Spiel aufbauen."
   ]
  },
  {
   "cell_type": "markdown",
   "id": "af37c563-8696-4e0d-8a94-7984ed6d4855",
   "metadata": {},
   "source": [
    "Als erstes brauchen wir ein paar Definitionen:"
   ]
  },
  {
   "cell_type": "code",
   "execution_count": 15,
   "id": "165741e8-6e91-4eb3-8b30-360701b891d8",
   "metadata": {},
   "outputs": [],
   "source": [
    "from enum import Enum\n",
    "\n",
    "spielfeld_positionen = {\n",
    "    \"links oben\": 0,\n",
    "    \"mitte oben\": 1,\n",
    "    \"rechts oben\": 2,\n",
    "    # Wie geht es weiter?\n",
    "}\n",
    "   \n",
    "class Belegung(Enum): # Die Enum-Klasse hilft uns, nur bestimmte Werte zu verwenden\n",
    "    FREI = 0\n",
    "    KREIS = 1\n",
    "    KREUZ = 2\n",
    "\n",
    "class Zustand(Enum):\n",
    "    OK = 0\n",
    "    NICHT_ERLAUBT = -1\n",
    "    KREUZ_GEWINNT = 1\n",
    "    KREIS_GEWINNT = 2\n",
    "    UNENTSCHIEDEN = 3\n",
    "    KREIS_IST_AM_ZUG = 4\n",
    "    KREUZ_IST_AM_ZUG = 5"
   ]
  },
  {
   "cell_type": "markdown",
   "id": "c498b51a-1334-4ff2-a5f3-fc0a642d4ed3",
   "metadata": {},
   "source": [
    "Für das Spiel verwenden wir eine Klasse, die alle nötigen Informationen für ein Spiel enthält. Das Gerüst ist hier vorgeben. Wir bauen Stück für Stück Funktionen dazu, bis das Modell fertig ist."
   ]
  },
  {
   "cell_type": "code",
   "execution_count": 13,
   "id": "6860d7dc-aac4-485c-8043-92664594f857",
   "metadata": {},
   "outputs": [],
   "source": [
    "class TicTacToe:\n",
    "    \n",
    "    def __init__(self):\n",
    "        zeichne_spielfeld()        \n",
    "        self._spielfeld = [Belegung.FREI]*len(spielfeld_positionen)\n",
    "    \n",
    "    def setze(self, pos, symbol):\n",
    "        \"\"\" Setze ein Symbol (Belegung.KREUZ, Belegung.Kreis), wenn es die\n",
    "        Spielregeln erlauben. Speichere die Belegung des Spielfeldes,\n",
    "        rufe die entsprechende Ausgabe-Funktion auf und gib Zustand.OK oder\n",
    "        Zustand.NICHT_ERLAUBT zurück.\n",
    "        \"\"\"\n",
    "        return Zustand.OK\n",
    "    \n",
    "    def pruefe_auf_unentschieden(self):\n",
    "        \"\"\"\n",
    "        Gibt True zurück, wenn die laufende Partie unentschieden zu ende\n",
    "        gegangen ist.\n",
    "        \"\"\"\n",
    "        return False\n",
    "         \n",
    "    def pruefe_auf_gewonnen(self, symbol):\n",
    "        \"\"\"\n",
    "        Gibt True zurück, wenn das angefragte Symbol (Belegung.KREUZ oder\n",
    "        Belegung.Kreis) gewonnen hat.\n",
    "        \"\"\"\n",
    "        return False\n",
    "     \n",
    "    def zustand(self):\n",
    "        \"\"\"\n",
    "        gibt zurück, in welchem Zustand sich das Spiel gerade befindet\n",
    "        (ein Element von Zustand, z. B. Zustand.KREUZ_IST_AM_ZUG)\n",
    "        \"\"\"\n",
    "        return Zustand.NICHT_ERLAUBT\n",
    "    \n",
    "    def laeuft(self):\n",
    "        \"\"\" gibt True zurück, wenn das Spiel noch läuft, sonst False \"\"\"\n",
    "        return self.naechster_zug() != None\n",
    " \n",
    "    def naechster_zug(self):\n",
    "        \"\"\"\n",
    "        gib Zustand.KREUZ_IST_AM_ZUG oder Zustand.KREIS_IST_AM_ZUG\n",
    "        oder None zurück\n",
    "        \"\"\"\n",
    "        return None \n",
    "    "
   ]
  },
  {
   "cell_type": "markdown",
   "id": "bd97f276-fb60-43ca-a0e3-876d6c94e540",
   "metadata": {},
   "source": [
    "Die Aufgaben findest du nun im Arbeitsblatt [TicTacToe-Controller.ipynb](TicTacToe-Controller.ipynb)."
   ]
  },
  {
   "cell_type": "code",
   "execution_count": null,
   "id": "77763455-e223-486e-a035-06b4d7ff0806",
   "metadata": {},
   "outputs": [],
   "source": []
  }
 ],
 "metadata": {
  "kernelspec": {
   "display_name": "Python 3 (ipykernel)",
   "language": "python",
   "name": "python3"
  },
  "language_info": {
   "codemirror_mode": {
    "name": "ipython",
    "version": 3
   },
   "file_extension": ".py",
   "mimetype": "text/x-python",
   "name": "python",
   "nbconvert_exporter": "python",
   "pygments_lexer": "ipython3",
   "version": "3.9.7"
  }
 },
 "nbformat": 4,
 "nbformat_minor": 5
}
