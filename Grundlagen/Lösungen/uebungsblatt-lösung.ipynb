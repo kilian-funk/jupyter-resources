{
 "cells": [
  {
   "cell_type": "markdown",
   "id": "a8ca70c5",
   "metadata": {},
   "source": [
    "# Übungen zu Python\n",
    "\n",
    "Programmiere die Antworten zu den folgenden Fragen. Die erste Frage ist als Beispiel bereits beantwortet."
   ]
  },
  {
   "cell_type": "markdown",
   "id": "927cbe89",
   "metadata": {},
   "source": [
    "### Aufgabe 1 (Beispiel)\n",
    "**Frage:** Wie viel ist `17 * 31` ?"
   ]
  },
  {
   "cell_type": "code",
   "execution_count": 7,
   "id": "4acf9a06",
   "metadata": {},
   "outputs": [
    {
     "name": "stdout",
     "output_type": "stream",
     "text": [
      "Antwort: 17 * 32 =  544\n"
     ]
    }
   ],
   "source": [
    "# Rechnung\n",
    "a = 17*32\n",
    "\n",
    "# Antwort\n",
    "print(\"Antwort: 17 * 32 = \", a)"
   ]
  },
  {
   "cell_type": "markdown",
   "id": "1e6d9590",
   "metadata": {},
   "source": [
    "### Aufgabe 2\n",
    "**Frage**: Wieviel ist die Summe aus 431 und 217?"
   ]
  },
  {
   "cell_type": "code",
   "execution_count": 8,
   "id": "6b87ee79-36bb-47ca-9776-43c9c8786936",
   "metadata": {},
   "outputs": [
    {
     "name": "stdout",
     "output_type": "stream",
     "text": [
      "Antwort: 431 + 217 =  648\n"
     ]
    }
   ],
   "source": [
    "a = 431+217\n",
    "\n",
    "print(\"Antwort: 431 + 217 = \", a)"
   ]
  },
  {
   "cell_type": "markdown",
   "id": "b2934ece",
   "metadata": {},
   "source": [
    "### Aufgabe 3\n",
    "**Gegeben:** Liste mit Zahlen"
   ]
  },
  {
   "cell_type": "code",
   "execution_count": 9,
   "id": "c4c6533d",
   "metadata": {},
   "outputs": [],
   "source": [
    "liste = [5, 7, 8, 9]"
   ]
  },
  {
   "cell_type": "markdown",
   "id": "9a083cba",
   "metadata": {},
   "source": [
    "**Augabe:** Gib der Reihe nach alle Elemente in der Form `Index 0 : 5` aus. "
   ]
  },
  {
   "cell_type": "code",
   "execution_count": 10,
   "id": "0d6588ae",
   "metadata": {},
   "outputs": [
    {
     "name": "stdout",
     "output_type": "stream",
     "text": [
      "Index  0  :  5\n",
      "Index  1  :  7\n",
      "Index  2  :  8\n",
      "Index  3  :  9\n",
      "Index  0  :  5\n",
      "Index  1  :  7\n",
      "Index  2  :  8\n",
      "Index  3  :  9\n",
      "Index  0  :  5\n",
      "Index  1  :  7\n",
      "Index  2  :  8\n",
      "Index  3  :  9\n"
     ]
    }
   ],
   "source": [
    "# erste Möglichkeit\n",
    "index = 0\n",
    "for element in liste:\n",
    "    print(\"Index \", index,  \" : \", element)\n",
    "    index += 1\n",
    "\n",
    "# zweite Möglichkeit\n",
    "for index, element in enumerate(liste):\n",
    "    print(\"Index \", index,  \" : \", element)\n",
    "    \n",
    "\n",
    "# dritte Möglichkeit\n",
    "for index in range(4):\n",
    "    element = liste[index]\n",
    "    print(\"Index \", index,  \" : \", element)\n"
   ]
  },
  {
   "cell_type": "markdown",
   "id": "5f82466d",
   "metadata": {},
   "source": [
    "**Frage:** Wie groß ist die Zahl bei Index 2 in der Liste?"
   ]
  },
  {
   "cell_type": "code",
   "execution_count": 11,
   "id": "f46c066e",
   "metadata": {},
   "outputs": [
    {
     "data": {
      "text/plain": [
       "8"
      ]
     },
     "execution_count": 11,
     "metadata": {},
     "output_type": "execute_result"
    }
   ],
   "source": [
    "liste[2]"
   ]
  },
  {
   "cell_type": "markdown",
   "id": "d991fa5c",
   "metadata": {},
   "source": [
    "**Aufgabe:** Hänge die Zahl 12 an die Liste an."
   ]
  },
  {
   "cell_type": "code",
   "execution_count": 12,
   "id": "cd2d54f8",
   "metadata": {},
   "outputs": [],
   "source": [
    "liste.append(12)"
   ]
  },
  {
   "cell_type": "markdown",
   "id": "747da286",
   "metadata": {},
   "source": [
    "**Frage:** Was ist die Summe aller Zahlen in der Liste?"
   ]
  },
  {
   "cell_type": "code",
   "execution_count": 13,
   "id": "6765edf7",
   "metadata": {},
   "outputs": [
    {
     "name": "stdout",
     "output_type": "stream",
     "text": [
      "41\n",
      "41\n"
     ]
    }
   ],
   "source": [
    "# erste Möglichkeit\n",
    "print(sum(liste))\n",
    "\n",
    "# zweite Möglichkeit\n",
    "summe = 0\n",
    "for element in liste:\n",
    "    summe += element\n",
    "print(summe)\n",
    "\n"
   ]
  },
  {
   "cell_type": "markdown",
   "id": "464f3d18",
   "metadata": {},
   "source": [
    "**Frage:** Wie groß ist die Summe aller ungeraden Zahlen in der Liste\n"
   ]
  },
  {
   "cell_type": "code",
   "execution_count": 14,
   "id": "9a5de275",
   "metadata": {},
   "outputs": [
    {
     "name": "stdout",
     "output_type": "stream",
     "text": [
      "21\n"
     ]
    }
   ],
   "source": [
    "summe = 0\n",
    "for element in liste:\n",
    "    if element%2 == 1:\n",
    "        summe += element\n",
    "        \n",
    "print(summe)\n"
   ]
  },
  {
   "cell_type": "markdown",
   "id": "68d3523b",
   "metadata": {},
   "source": [
    "**Aufgabe:** Erstelle eine neue Liste `liste2`, die alle Elemente aus der ersten Liste, aber mit negativem Vorzeichen enthält. "
   ]
  },
  {
   "cell_type": "code",
   "execution_count": 15,
   "id": "2eaefc5f",
   "metadata": {},
   "outputs": [
    {
     "name": "stdout",
     "output_type": "stream",
     "text": [
      "[-5, -7, -8, -9, -12]\n",
      "[-5, -7, -8, -9, -12]\n"
     ]
    }
   ],
   "source": [
    "# erste Möglichkeit\n",
    "liste2 = []\n",
    "for element in liste:\n",
    "    liste2.append(-element)\n",
    "    \n",
    "print(liste2)\n",
    "\n",
    "# zweite Möglichkeit\n",
    "\n",
    "liste2 = [-element for element in liste]\n",
    "\n",
    "print(liste2)"
   ]
  },
  {
   "cell_type": "markdown",
   "id": "c453d9da",
   "metadata": {},
   "source": [
    "### Aufgabe 4\n",
    "Berechne die Summe aller Zahlen von 1 bis `n`. Frage den Benutzer, wie groß die Zahl `n` sein soll."
   ]
  },
  {
   "cell_type": "code",
   "execution_count": null,
   "id": "685eda9d",
   "metadata": {},
   "outputs": [],
   "source": [
    "n = input(\"Bis zu welcher Zahl n soll die Summe berechnet werden? \")\n",
    "\n",
    "summe = sum(range(1,n))\n",
    "\n",
    "print(summe)"
   ]
  },
  {
   "cell_type": "markdown",
   "id": "b2fefd6d",
   "metadata": {},
   "source": [
    "### Aufgabe 5\n",
    "**Gegeben:** Wörterbuch mit den Dienstjahren aller Bundespräsidenten seit 1949:"
   ]
  },
  {
   "cell_type": "code",
   "execution_count": null,
   "id": "62ca1a4e",
   "metadata": {},
   "outputs": [],
   "source": [
    "dienstjahre = {\"Heuss\": 10, \"Lübke\": 10, \"Heinemann\": 5, \"Scheel\": 5, \"Carstens\": 5, \"von Weizsäcker\": 10, \"Herzog\": 5, \"Rau\": 5, \"Köhler\": 6, \"Wulff\": 3, \"Gauck\": 5}"
   ]
  },
  {
   "cell_type": "markdown",
   "id": "d2efd497",
   "metadata": {},
   "source": [
    "**Aufgabe:** Der aktuelle Bundespräsident Frank-Walter Steinmeier fehlt in der Liste. Er ist 5 Jahre im Amt. Mit welchem Befehl kannst du ihn hinzu fügen?"
   ]
  },
  {
   "cell_type": "code",
   "execution_count": 3,
   "id": "3d7dadcd",
   "metadata": {},
   "outputs": [],
   "source": [
    "dienstjahre[\"Steinmeier\"] = 5"
   ]
  },
  {
   "cell_type": "markdown",
   "id": "29157e02",
   "metadata": {},
   "source": [
    "**Aufgabe:** Gib die Namen aller Bundespräsidenten aus."
   ]
  },
  {
   "cell_type": "code",
   "execution_count": 4,
   "id": "6e4e43e7",
   "metadata": {},
   "outputs": [
    {
     "name": "stdout",
     "output_type": "stream",
     "text": [
      "Heuss\n",
      "Lübke\n",
      "Heinemann\n",
      "Scheel\n",
      "Carstens\n",
      "von Weizsäcker\n",
      "Herzog\n",
      "Rau\n",
      "Köhler\n",
      "Wulff\n",
      "Gauck\n",
      "Steinmeier\n"
     ]
    }
   ],
   "source": [
    "for präsident in dienstjahre:\n",
    "    print(präsident)"
   ]
  },
  {
   "cell_type": "markdown",
   "id": "aff074f7",
   "metadata": {},
   "source": [
    "**Aufgabe:** Gib zu jedem Bundespräsidenten eine Zeile in der Form: `Heuss : 10 Jahre im Amt` aus"
   ]
  },
  {
   "cell_type": "code",
   "execution_count": 5,
   "id": "67fa3a84",
   "metadata": {},
   "outputs": [
    {
     "name": "stdout",
     "output_type": "stream",
     "text": [
      "Heuss : 10 Jahre im Amt\n",
      "Lübke : 10 Jahre im Amt\n",
      "Heinemann : 5 Jahre im Amt\n",
      "Scheel : 5 Jahre im Amt\n",
      "Carstens : 5 Jahre im Amt\n",
      "von Weizsäcker : 10 Jahre im Amt\n",
      "Herzog : 5 Jahre im Amt\n",
      "Rau : 5 Jahre im Amt\n",
      "Köhler : 6 Jahre im Amt\n",
      "Wulff : 3 Jahre im Amt\n",
      "Gauck : 5 Jahre im Amt\n",
      "Steinmeier : 5 Jahre im Amt\n"
     ]
    }
   ],
   "source": [
    "for präsident, jahre in dienstjahre.items():\n",
    "    print(f\"{präsident} : {jahre} Jahre im Amt\")"
   ]
  },
  {
   "cell_type": "markdown",
   "id": "71377f2f",
   "metadata": {},
   "source": [
    "**Frage:** Welcher Bundespräsident war am kürzesten im Amt?"
   ]
  },
  {
   "cell_type": "code",
   "execution_count": 6,
   "id": "e5c66c37",
   "metadata": {},
   "outputs": [
    {
     "name": "stdout",
     "output_type": "stream",
     "text": [
      "Wulff war nur 3 im Amt.\n"
     ]
    }
   ],
   "source": [
    "min_jahre = 100\n",
    "min_präsident = None\n",
    "for präsident, jahre in dienstjahre.items():\n",
    "    if jahre < min_jahre:\n",
    "        min_präsident = präsident\n",
    "        min_jahre = jahre\n",
    "\n",
    "print(f\"{min_präsident} war nur {min_jahre} im Amt.\")\n",
    "        "
   ]
  }
 ],
 "metadata": {
  "kernelspec": {
   "display_name": "Python 3 (ipykernel)",
   "language": "python",
   "name": "python3"
  },
  "language_info": {
   "codemirror_mode": {
    "name": "ipython",
    "version": 3
   },
   "file_extension": ".py",
   "mimetype": "text/x-python",
   "name": "python",
   "nbconvert_exporter": "python",
   "pygments_lexer": "ipython3",
   "version": "3.9.7"
  }
 },
 "nbformat": 4,
 "nbformat_minor": 5
}
