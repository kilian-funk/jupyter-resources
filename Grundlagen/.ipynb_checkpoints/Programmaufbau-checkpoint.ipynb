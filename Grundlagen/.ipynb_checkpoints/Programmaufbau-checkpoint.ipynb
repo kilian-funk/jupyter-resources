{
 "cells": [
  {
   "cell_type": "markdown",
   "id": "88c7f44f-7505-4672-813b-0c1f53b5670a",
   "metadata": {},
   "source": [
    "# TicTacToe"
   ]
  },
  {
   "cell_type": "markdown",
   "id": "021f5262-61b6-4cf0-ae2e-b375f7ea254a",
   "metadata": {},
   "source": [
    "In der Vergangenheit hast du den EVA-Prozess kennengelernt: Eingabe - Verarbeitung - Ausgabe.\n",
    "\n",
    "Fuer interaktive Anwendungen wie Spiele genuegt das aber nicht aus, weil sich dabei Eingabe, Verarbeitung, Ausgabe immer wiederholen. Dafür verwenden wir ein anderes Modell, nämlich "
   ]
  },
  {
   "cell_type": "markdown",
   "id": "0ed4448b-c133-4063-bf4d-3b7be154a26f",
   "metadata": {},
   "source": [
    "**Aufgabe:** Zeichne wieder auf einer neuen Leinwand ein Spielfeld fuer *TicTacToe*."
   ]
  },
  {
   "cell_type": "markdown",
   "id": "8c5bccfb-369a-46df-a1c2-89cbb910ee05",
   "metadata": {
    "tags": []
   },
   "source": [
    "## Aufbau von Programmen\n",
    "\n",
    "### E V A : Eingabe - Verarbeitung - Ausgabe\n",
    "\n",
    "Einfache Aufgaben werden nach diesem Prinzip aufgebaut.\n",
    "\n",
    "* Die drei Phasen des Programms laufen nacheinander ab\n",
    "  * **Eingabe:** hier werden alle nötigen Informationen gesammelt, entweder durch Benutzereingabe, Einlesen einer Datei oder Netzwerkübertragung, ...\n",
    "  * **Verarbeitung:** Die Daten werden zu einem Ergebnis verarbeitet.\n",
    "  * **Ausgabe:** Das Ergebnis wird ausgegeben, auf den Bildschirm, eine Datei, den Drucker\n",
    "  oder eine Netzwerkverbindung.\n",
    "* Das Ende des Programms ist eindeutig.\n",
    "\n",
    "**Beispiel: Anfrage an Wikipedia.**\n",
    "* Eingabe: Der Wikipedia-Server erhält eine Anfrage nach einem Artikel. Die Seite wird von einer Datenbank geladen.\n",
    "* Verarbeitung: Der Artikel wird formatiert.\n",
    "* Ausgabe: Die erstellte Web-Seite wird über die Netzwerkverbindung zurückgeschickt.\n",
    "\n",
    "\n",
    "### M V C: Model - View - Controller\n",
    "\n",
    "Größere Programme, die eine grafische Benutzeroberläche haben und flexibel auf Nutzereingaben reagieren müssen, werden oft mit diesem Modell aufgebaut. Der Name ist englisch und kann mit \"Modell, Ansicht, Steuerer\" übersetzt werden. Die drei Teile (MVC) des Programms sind dabei nicht Phasen, die nach einander ablaufen, sondern während des gesammten Ablaufs eine bestimmte Aufgabe wahrnehmen:\n",
    "* **Modell (Model):** Der Modell-Teil enthält alle wichtigen Daten des Programms und weiss, wie sie bearbeitet werden können.\n",
    "* **Ansicht (View):** Der Ansichts-Teil übernimmt die Darstellung auf dem Bildschirm und definiert die Eingabemöglichkeiten.\n",
    "* **Steuerer (Controller):** Der Steuerer ist das eigentliche Hauptprogramm, dass zu Beginn alle Programmteile aufbaut, alle Verbindungen zwischen den Programmteilen herstellt und am Ende wieder alles aufräumt.\n",
    "\n",
    "**Beispiel: Schachcompter.**\n",
    "* Modell: Enthält die Informationen zum Spielzustand, z. B. wer ist am Zug, welche Figuren stehen auf welchem Feld (z. B. schwarzer Bauer auf D4), alle Spielregeln (z. B. darf der Bauer von D4 auf D5 ziehen?).\n",
    "* View: Zeichnet das Spielfeld und die Figuren auf den Bildschirm. Hier wird entschieden, ob es eine 3D-Ansicht ist, oder nur einfache Symbole. Hier werden auch Benutzereingaben erfasst, aber nicht vollständig verarbeitet (z. B. der Benutzer zieht eine Figur von einem Feld auf ein anderes). Für die vollständige Verarbeitung ist das Wissen aus dem Modell nötig.\n",
    "* Controller: Baut das Spiel auf (Modell und View) und verbindet alles miteinander. Z. B. müssen sich Ansichtsteil und Modell verständigen, ob ein Zug erlaubt ist. Diese Verbindungen zwischen beiden werden vom Steuerer aufgebaut und am Ende auch wieder abgebaut.\n"
   ]
  },
  {
   "cell_type": "code",
   "execution_count": null,
   "id": "0bab964e-647a-4cbd-8242-7745c57da5c5",
   "metadata": {},
   "outputs": [],
   "source": []
  },
  {
   "cell_type": "code",
   "execution_count": null,
   "id": "a2de2741-f2da-4af5-a071-4b9ca9eaf57c",
   "metadata": {},
   "outputs": [],
   "source": []
  },
  {
   "cell_type": "code",
   "execution_count": null,
   "id": "109bd3b3-d36c-4c4b-b684-c9e82497ea6a",
   "metadata": {},
   "outputs": [],
   "source": [
    "**Aufgabe:** Schreibe eine Funktion, die an einer bestimmten Stelle einen Kreis "
   ]
  }
 ],
 "metadata": {
  "kernelspec": {
   "display_name": "Python 3 (ipykernel)",
   "language": "python",
   "name": "python3"
  },
  "language_info": {
   "codemirror_mode": {
    "name": "ipython",
    "version": 3
   },
   "file_extension": ".py",
   "mimetype": "text/x-python",
   "name": "python",
   "nbconvert_exporter": "python",
   "pygments_lexer": "ipython3",
   "version": "3.9.7"
  }
 },
 "nbformat": 4,
 "nbformat_minor": 5
}
