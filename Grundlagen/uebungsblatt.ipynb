{
 "cells": [
  {
   "cell_type": "markdown",
   "id": "a8ca70c5",
   "metadata": {},
   "source": [
    "# Übungen zu Python\n",
    "\n",
    "Programmiere die Antworten zu den folgenden Fragen. Die erste Frage ist als Beispiel bereits beantwortet."
   ]
  },
  {
   "cell_type": "markdown",
   "id": "927cbe89",
   "metadata": {},
   "source": [
    "### Aufgabe 1 (Beispiel)\n",
    "**Frage:** Wie viel ist `17 * 31` ?"
   ]
  },
  {
   "cell_type": "code",
   "execution_count": 3,
   "id": "4acf9a06",
   "metadata": {},
   "outputs": [
    {
     "name": "stdout",
     "output_type": "stream",
     "text": [
      "Antwort: 17 * 31 =  544\n"
     ]
    }
   ],
   "source": [
    "# Rechnung\n",
    "a = 17*32\n",
    "\n",
    "# Antwort\n",
    "print(\"Antwort: 17 * 32 = \", a)"
   ]
  },
  {
   "cell_type": "markdown",
   "id": "1e6d9590",
   "metadata": {},
   "source": [
    "### Aufgabe 2\n",
    "**Frage**: Wieviel ist die Summe aus 431 und 217?"
   ]
  },
  {
   "cell_type": "code",
   "execution_count": 2,
   "id": "6b87ee79-36bb-47ca-9776-43c9c8786936",
   "metadata": {},
   "outputs": [
    {
     "name": "stdout",
     "output_type": "stream",
     "text": [
      "Antwort: 431 + 217 =  648\n"
     ]
    }
   ],
   "source": []
  },
  {
   "cell_type": "markdown",
   "id": "b2934ece",
   "metadata": {},
   "source": [
    "### Aufgabe 3\n",
    "**Gegeben:** Liste mit Zahlen"
   ]
  },
  {
   "cell_type": "code",
   "execution_count": 2,
   "id": "c4c6533d",
   "metadata": {},
   "outputs": [],
   "source": [
    "liste = [5, 7, 8, 9]"
   ]
  },
  {
   "cell_type": "markdown",
   "id": "9a083cba",
   "metadata": {},
   "source": [
    "**Augabe:** Gib der Reihe nach alle Elemente in der Form `Index 0 : 5` aus. "
   ]
  },
  {
   "cell_type": "code",
   "execution_count": 9,
   "id": "0d6588ae",
   "metadata": {},
   "outputs": [
    {
     "name": "stdout",
     "output_type": "stream",
     "text": [
      "Index  0  :  5\n",
      "Index  1  :  7\n",
      "Index  2  :  8\n",
      "Index  3  :  9\n",
      "Index  0  :  5\n",
      "Index  1  :  7\n",
      "Index  2  :  8\n",
      "Index  3  :  9\n",
      "Index  0  :  5\n",
      "Index  1  :  7\n",
      "Index  2  :  8\n",
      "Index  3  :  9\n"
     ]
    }
   ],
   "source": [
    "\n"
   ]
  },
  {
   "cell_type": "markdown",
   "id": "5f82466d",
   "metadata": {},
   "source": [
    "**Frage:** Wie groß ist die Zahl bei Index 2 in der Liste?"
   ]
  },
  {
   "cell_type": "code",
   "execution_count": 11,
   "id": "f46c066e",
   "metadata": {},
   "outputs": [
    {
     "data": {
      "text/plain": [
       "8"
      ]
     },
     "execution_count": 11,
     "metadata": {},
     "output_type": "execute_result"
    }
   ],
   "source": []
  },
  {
   "cell_type": "markdown",
   "id": "d991fa5c",
   "metadata": {},
   "source": [
    "**Aufgabe:** Hänge die Zahl 12 an die Liste an."
   ]
  },
  {
   "cell_type": "code",
   "execution_count": 13,
   "id": "cd2d54f8",
   "metadata": {},
   "outputs": [],
   "source": []
  },
  {
   "cell_type": "markdown",
   "id": "747da286",
   "metadata": {},
   "source": [
    "**Frage:** Was ist die Summe aller Zahlen in der Liste?"
   ]
  },
  {
   "cell_type": "code",
   "execution_count": 17,
   "id": "6765edf7",
   "metadata": {},
   "outputs": [
    {
     "name": "stdout",
     "output_type": "stream",
     "text": [
      "41\n",
      "41\n"
     ]
    }
   ],
   "source": [
    "\n"
   ]
  },
  {
   "cell_type": "markdown",
   "id": "464f3d18",
   "metadata": {},
   "source": [
    "**Frage:** Wie groß ist die Summe aller ungeraden Zahlen in der Liste\n"
   ]
  },
  {
   "cell_type": "code",
   "execution_count": 20,
   "id": "9a5de275",
   "metadata": {},
   "outputs": [
    {
     "name": "stdout",
     "output_type": "stream",
     "text": [
      "21\n"
     ]
    }
   ],
   "source": [
    "\n"
   ]
  },
  {
   "cell_type": "markdown",
   "id": "68d3523b",
   "metadata": {},
   "source": [
    "**Aufgabe:** Erstelle eine neue Liste `liste2`, die alle Elemente aus der ersten Liste, aber mit negativem Vorzeichen enthält. "
   ]
  },
  {
   "cell_type": "code",
   "execution_count": null,
   "id": "2eaefc5f",
   "metadata": {},
   "outputs": [],
   "source": []
  },
  {
   "cell_type": "markdown",
   "id": "c453d9da",
   "metadata": {},
   "source": [
    "### Aufgabe 4\n",
    "Berechne die Summe aller Zahlen von 1 bis `n`. Frage den Benutzer, wie groß die Zahl `n` sein soll."
   ]
  },
  {
   "cell_type": "code",
   "execution_count": null,
   "id": "685eda9d",
   "metadata": {},
   "outputs": [],
   "source": []
  },
  {
   "cell_type": "markdown",
   "id": "b2fefd6d",
   "metadata": {},
   "source": [
    "### Aufgabe 5\n",
    "**Gegeben:** Wörterbuch mit den Dienstjahren aller Bundespräsidenten seit 1949:"
   ]
  },
  {
   "cell_type": "code",
   "execution_count": 1,
   "id": "62ca1a4e",
   "metadata": {},
   "outputs": [],
   "source": [
    "dienstjahre = {\"Heuss\": 10, \"Lübke\": 10, \"Heinemann\": 5, \"Scheel\": 5, \"Carstens\": 5, \"von Weizsäcker\": 10, \"Herzog\": 5, \"Rau\": 5, \"Köhler\": 6, \"Wulff\": 3, \"Gauck\": 5}"
   ]
  },
  {
   "cell_type": "markdown",
   "id": "d2efd497",
   "metadata": {},
   "source": [
    "**Aufgabe:** Der aktuelle Bundespräsident Frank-Walter Steinmeier fehlt in der Liste. Er ist 5 Jahre im Amt. Mit welchem Befehl kannst du ihn hinzu fügen?"
   ]
  },
  {
   "cell_type": "code",
   "execution_count": null,
   "id": "3d7dadcd",
   "metadata": {},
   "outputs": [],
   "source": []
  },
  {
   "cell_type": "markdown",
   "id": "29157e02",
   "metadata": {},
   "source": [
    "**Aufgabe:** Gib die Namen aller Bundespräsidenten aus."
   ]
  },
  {
   "cell_type": "code",
   "execution_count": null,
   "id": "6e4e43e7",
   "metadata": {},
   "outputs": [],
   "source": []
  },
  {
   "cell_type": "markdown",
   "id": "aff074f7",
   "metadata": {},
   "source": [
    "**Aufgabe:** Gib zu jedem Bundespräsidenten eine Zeile in der Form: `Heuss : 10 Jahre im Amt` aus"
   ]
  },
  {
   "cell_type": "code",
   "execution_count": null,
   "id": "67fa3a84",
   "metadata": {},
   "outputs": [],
   "source": []
  },
  {
   "cell_type": "markdown",
   "id": "71377f2f",
   "metadata": {},
   "source": [
    "**Frage:** Welcher Bundespräsident war am kürzesten im Amt?"
   ]
  },
  {
   "cell_type": "code",
   "execution_count": null,
   "id": "e5c66c37",
   "metadata": {},
   "outputs": [],
   "source": []
  },
  {
   "cell_type": "markdown",
   "id": "27bffbb6",
   "metadata": {},
   "source": []
  },
  {
   "cell_type": "code",
   "execution_count": null,
   "id": "5605d7ec",
   "metadata": {},
   "outputs": [],
   "source": []
  },
  {
   "cell_type": "code",
   "execution_count": null,
   "id": "ebd8b62c",
   "metadata": {},
   "outputs": [],
   "source": []
  }
 ],
 "metadata": {
  "kernelspec": {
   "display_name": "Python 3 (ipykernel)",
   "language": "python",
   "name": "python3"
  },
  "language_info": {
   "codemirror_mode": {
    "name": "ipython",
    "version": 3
   },
   "file_extension": ".py",
   "mimetype": "text/x-python",
   "name": "python",
   "nbconvert_exporter": "python",
   "pygments_lexer": "ipython3",
   "version": "3.9.7"
  }
 },
 "nbformat": 4,
 "nbformat_minor": 5
}
